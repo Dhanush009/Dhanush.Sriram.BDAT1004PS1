{
 "cells": [
  {
   "cell_type": "markdown",
   "id": "5e35cbf0",
   "metadata": {},
   "source": [
    "# Question 1"
   ]
  },
  {
   "cell_type": "markdown",
   "id": "8105abd1",
   "metadata": {},
   "source": [
    "The data types are as follows:\n",
    "\n",
    " 5 - Integer\n",
    " \n",
    " 5.0 - Double\n",
    " \n",
    " 5 > 1 - Boolean\n",
    " \n",
    " '5' - Character\n",
    " \n",
    " 5 * 2 - Integer\n",
    " \n",
    " '5' * 2 - Integer\n",
    " \n",
    " '5'+'2' - Integer\n",
    " \n",
    " 5 / 2 - Integer\n",
    " \n",
    " 5 % 2 - Integer"
   ]
  },
  {
   "cell_type": "markdown",
   "id": "6625992c",
   "metadata": {},
   "source": [
    "# Question 2"
   ]
  },
  {
   "cell_type": "markdown",
   "id": "578647ed",
   "metadata": {},
   "source": [
    "## a)"
   ]
  },
  {
   "cell_type": "code",
   "execution_count": 1,
   "id": "6e002c13",
   "metadata": {},
   "outputs": [
    {
     "data": {
      "text/html": [
       "\r\n",
       "<div>\r\n",
       "    <div id='dotnet-interactive-this-cell-9516.Microsoft.DotNet.Interactive.Http.HttpPort' style='display: none'>\r\n",
       "        The below script needs to be able to find the current output cell; this is an easy method to get it.\r\n",
       "    </div>\r\n",
       "    <script type='text/javascript'>\r\n",
       "async function probeAddresses(probingAddresses) {\r\n",
       "    function timeout(ms, promise) {\r\n",
       "        return new Promise(function (resolve, reject) {\r\n",
       "            setTimeout(function () {\r\n",
       "                reject(new Error('timeout'))\r\n",
       "            }, ms)\r\n",
       "            promise.then(resolve, reject)\r\n",
       "        })\r\n",
       "    }\r\n",
       "\r\n",
       "    if (Array.isArray(probingAddresses)) {\r\n",
       "        for (let i = 0; i < probingAddresses.length; i++) {\r\n",
       "\r\n",
       "            let rootUrl = probingAddresses[i];\r\n",
       "\r\n",
       "            if (!rootUrl.endsWith('/')) {\r\n",
       "                rootUrl = `${rootUrl}/`;\r\n",
       "            }\r\n",
       "\r\n",
       "            try {\r\n",
       "                let response = await timeout(1000, fetch(`${rootUrl}discovery`, {\r\n",
       "                    method: 'POST',\r\n",
       "                    cache: 'no-cache',\r\n",
       "                    mode: 'cors',\r\n",
       "                    timeout: 1000,\r\n",
       "                    headers: {\r\n",
       "                        'Content-Type': 'text/plain'\r\n",
       "                    },\r\n",
       "                    body: probingAddresses[i]\r\n",
       "                }));\r\n",
       "\r\n",
       "                if (response.status == 200) {\r\n",
       "                    return rootUrl;\r\n",
       "                }\r\n",
       "            }\r\n",
       "            catch (e) { }\r\n",
       "        }\r\n",
       "    }\r\n",
       "}\r\n",
       "\r\n",
       "function loadDotnetInteractiveApi() {\r\n",
       "    probeAddresses([\"http://10.0.0.90:1001/\", \"http://127.0.0.1:1001/\"])\r\n",
       "        .then((root) => {\r\n",
       "        // use probing to find host url and api resources\r\n",
       "        // load interactive helpers and language services\r\n",
       "        let dotnetInteractiveRequire = require.config({\r\n",
       "        context: '9516.Microsoft.DotNet.Interactive.Http.HttpPort',\r\n",
       "                paths:\r\n",
       "            {\r\n",
       "                'dotnet-interactive': `${root}resources`\r\n",
       "                }\r\n",
       "        }) || require;\r\n",
       "\r\n",
       "            window.dotnetInteractiveRequire = dotnetInteractiveRequire;\r\n",
       "\r\n",
       "            window.configureRequireFromExtension = function(extensionName, extensionCacheBuster) {\r\n",
       "                let paths = {};\r\n",
       "                paths[extensionName] = `${root}extensions/${extensionName}/resources/`;\r\n",
       "                \r\n",
       "                let internalRequire = require.config({\r\n",
       "                    context: extensionCacheBuster,\r\n",
       "                    paths: paths,\r\n",
       "                    urlArgs: `cacheBuster=${extensionCacheBuster}`\r\n",
       "                    }) || require;\r\n",
       "\r\n",
       "                return internalRequire\r\n",
       "            };\r\n",
       "        \r\n",
       "            dotnetInteractiveRequire([\r\n",
       "                    'dotnet-interactive/dotnet-interactive'\r\n",
       "                ],\r\n",
       "                function (dotnet) {\r\n",
       "                    dotnet.init(window);\r\n",
       "                },\r\n",
       "                function (error) {\r\n",
       "                    console.log(error);\r\n",
       "                }\r\n",
       "            );\r\n",
       "        })\r\n",
       "        .catch(error => {console.log(error);});\r\n",
       "    }\r\n",
       "\r\n",
       "// ensure `require` is available globally\r\n",
       "if ((typeof(require) !==  typeof(Function)) || (typeof(require.config) !== typeof(Function))) {\r\n",
       "    let require_script = document.createElement('script');\r\n",
       "    require_script.setAttribute('src', 'https://cdnjs.cloudflare.com/ajax/libs/require.js/2.3.6/require.min.js');\r\n",
       "    require_script.setAttribute('type', 'text/javascript');\r\n",
       "    \r\n",
       "    \r\n",
       "    require_script.onload = function() {\r\n",
       "        loadDotnetInteractiveApi();\r\n",
       "    };\r\n",
       "\r\n",
       "    document.getElementsByTagName('head')[0].appendChild(require_script);\r\n",
       "}\r\n",
       "else {\r\n",
       "    loadDotnetInteractiveApi();\r\n",
       "}\r\n",
       "\r\n",
       "    </script>\r\n",
       "</div>"
      ]
     },
     "metadata": {},
     "output_type": "display_data"
    },
    {
     "name": "stdout",
     "output_type": "stream",
     "text": [
      "Number of letters in 'Supercalifragilisticexpialidocious' : 34\r\n"
     ]
    }
   ],
   "source": [
    "string a = \"Supercalifragilisticexpialidocious\";\n",
    "Console.WriteLine(\"Number of letters in 'Supercalifragilisticexpialidocious' : \"+a.Length);"
   ]
  },
  {
   "cell_type": "markdown",
   "id": "e1e68601",
   "metadata": {},
   "source": [
    "## b)"
   ]
  },
  {
   "cell_type": "code",
   "execution_count": 2,
   "id": "13d84f0d",
   "metadata": {},
   "outputs": [
    {
     "name": "stdout",
     "output_type": "stream",
     "text": [
      "Yes\r\n"
     ]
    }
   ],
   "source": [
    "string a = \"Supercalifragilisticexpialidocious\";\n",
    "if(a.Contains(\"ice\")){\n",
    "Console.WriteLine(\"Yes\");\n",
    "}else{\n",
    "Console.WriteLine(\"No\");\n",
    "}"
   ]
  },
  {
   "cell_type": "markdown",
   "id": "ab3aa5b4",
   "metadata": {},
   "source": [
    "## c)"
   ]
  },
  {
   "cell_type": "code",
   "execution_count": 3,
   "id": "a100340e",
   "metadata": {},
   "outputs": [
    {
     "name": "stdout",
     "output_type": "stream",
     "text": [
      "Bababadalgharaghtakamminarronnkonn is longest word\r\n"
     ]
    }
   ],
   "source": [
    "string a = \"Supercalifragilisticexpialidocious\";\n",
    "string b = \"Honorificabilitudinitatibus\";\n",
    "string c = \"Bababadalgharaghtakamminarronnkonn\";\n",
    "\n",
    "if(a.Length>b.Length && a.Length>c.Length){\n",
    "Console.WriteLine($\"{a} is longest word\");\n",
    "}else if(b.Length>a.Length && b.Length>c.Length){\n",
    "Console.WriteLine($\"{b} is longest word\");\n",
    "}else{\n",
    "Console.WriteLine($\"{c} is longest word\");\n",
    "}"
   ]
  },
  {
   "cell_type": "markdown",
   "id": "475c44b9",
   "metadata": {},
   "source": [
    "## d)"
   ]
  },
  {
   "cell_type": "code",
   "execution_count": 4,
   "id": "2019633a",
   "metadata": {},
   "outputs": [
    {
     "name": "stdout",
     "output_type": "stream",
     "text": [
      "'Bartok' comes first and 'Buxtehude' comes last in the dictionary\r\n"
     ]
    }
   ],
   "source": [
    "string[] arr = {\"Berlioz\",\"Borodin\",\"Brian\",\"Bartok\",\"Bellini\",\"Buxtehude\",\"Bernstein\"};\n",
    "Array.Sort(arr);\n",
    "Console.WriteLine($\"'{arr[0]}' comes first and '{arr[arr.Length-1]}' comes last in the dictionary\");"
   ]
  },
  {
   "cell_type": "markdown",
   "id": "c300144b",
   "metadata": {},
   "source": [
    "# Question 3"
   ]
  },
  {
   "cell_type": "code",
   "execution_count": null,
   "id": "8b5296a3",
   "metadata": {},
   "outputs": [],
   "source": [
    "double a,b,c,s,area;\n",
    "Console.WriteLine(\"Enter side a : \");\n",
    "a = Convert.ToDouble(Console.ReadLine());\n",
    "Console.WriteLine(\"Enter side b : \");\n",
    "b = Convert.ToDouble(Console.ReadLine());\n",
    "Console.WriteLine(\"Enter side c : \");\n",
    "c = Convert.ToDouble(Console.ReadLine());\n",
    "\n",
    "s = (a + b + c) / 2;\n",
    "area = Math.Sqrt(s*(s-a)*(s-b)*(s-c));\n",
    "Console.WriteLine($\"Area of Triangle = {area}\");"
   ]
  },
  {
   "attachments": {
    "Screenshot%20%2858%29.png": {
     "image/png": "[encoded data removed]"
    }
   },
   "cell_type": "markdown",
   "id": "693518b4",
   "metadata": {},
   "source": [
    "![Screenshot%20%2858%29.png](attachment:Screenshot%20%2858%29.png)"
   ]
  },
  {
   "cell_type": "markdown",
   "id": "4c7b2239",
   "metadata": {},
   "source": [
    "# Question 4"
   ]
  },
  {
   "cell_type": "code",
   "execution_count": null,
   "id": "6e9ed0e1",
   "metadata": {},
   "outputs": [],
   "source": [
    "int arrSize;\n",
    "Console.WriteLine(\"Input the number of elements to be stored in the array :\");\n",
    "arrSize = Convert.ToInt32(Console.ReadLine());\n",
    "\n",
    "int[] arr = new int[arrSize];\n",
    "int[] eveArr = new int[arrSize];\n",
    "int[] oddArr = new int[arrSize];\n",
    "Console.Write($\"Input {arrSize} elemnts into array : \");\n",
    "Console.WriteLine();\n",
    "for(int i = 0; i < arrSize; i++)\n",
    "{\n",
    "    Console.Write($\"element {i} - \");\n",
    "    arr[i] = Convert.ToInt32(Console.ReadLine());\n",
    "}\n",
    "int j=0,x=0,y=0;\n",
    "while (j < arrSize)\n",
    "{\n",
    "    if (arr[j] % 2 == 0)\n",
    "    {\n",
    "        eveArr[x] = arr[j];\n",
    "        x++;\n",
    "    }\n",
    "    else\n",
    "    {\n",
    "        oddArr[y] = arr[j];\n",
    "        y++;\n",
    "    }\n",
    "    j++;\n",
    "}\n",
    "\n",
    "\n",
    "    Console.WriteLine(\"The Even Elements are :\");\n",
    "    foreach (int a in eveArr)\n",
    "    {\n",
    "        if (a != 0)\n",
    "        {\n",
    "            Console.Write($\"{a} \");\n",
    "        }\n",
    "    }\n",
    "\n",
    "Console.WriteLine();\n",
    "\n",
    "    Console.WriteLine(\"The Odd Elements are :\");\n",
    "    foreach (int b in oddArr)\n",
    "    {\n",
    "        if (b != 0)\n",
    "        {\n",
    "            Console.Write($\"{b} \");\n",
    "        }\n",
    "    }"
   ]
  },
  {
   "attachments": {
    "Screenshot%20%2860%29.png": {
     "image/png": "[encoded data removed]"
    }
   },
   "cell_type": "markdown",
   "id": "b7efeee3",
   "metadata": {},
   "source": [
    "![Screenshot%20%2860%29.png](attachment:Screenshot%20%2860%29.png)"
   ]
  },
  {
   "cell_type": "markdown",
   "id": "e4764350",
   "metadata": {},
   "source": [
    "# Question 5"
   ]
  },
  {
   "cell_type": "markdown",
   "id": "c7cafbbd",
   "metadata": {},
   "source": [
    "## a)"
   ]
  },
  {
   "cell_type": "code",
   "execution_count": 5,
   "id": "c207b1d8",
   "metadata": {},
   "outputs": [
    {
     "name": "stdout",
     "output_type": "stream",
     "text": [
      "True\r\n"
     ]
    }
   ],
   "source": [
    "string inside(double x,double y,double x1,double y1,double x2,double y2)\n",
    "{\n",
    "\n",
    "    if (x>=x1 && x<=x2)\n",
    "    {\n",
    "        if (y >= y1 && y <= y2)\n",
    "        {\n",
    "            return (\"True\");\n",
    "        }\n",
    "        else\n",
    "        {\n",
    "            return (\"False\");\n",
    "        }\n",
    "    }\n",
    "    else\n",
    "    {\n",
    "        return (\"False\");\n",
    "    }\n",
    "}\n",
    "\n",
    "Console.WriteLine(inside(1,1,0.5,0.2,1.1,2));\n"
   ]
  },
  {
   "cell_type": "markdown",
   "id": "8a5e4d87",
   "metadata": {},
   "source": [
    "## b)"
   ]
  },
  {
   "cell_type": "code",
   "execution_count": 6,
   "id": "c640126c",
   "metadata": {},
   "outputs": [
    {
     "name": "stdout",
     "output_type": "stream",
     "text": [
      "False\r\n"
     ]
    }
   ],
   "source": [
    "string a = inside(1,1,0.3,0.5,1.1,0.7);\n",
    "string b = inside(1,1,0.5,0.2,1.1,2);\n",
    "\n",
    "if (a == b)\n",
    "{\n",
    "    Console.WriteLine(\"True\");\n",
    "}\n",
    "else\n",
    "{\n",
    "    Console.WriteLine(\"False\");\n",
    "}"
   ]
  },
  {
   "cell_type": "markdown",
   "id": "169ac64a",
   "metadata": {},
   "source": [
    "# Question 6"
   ]
  },
  {
   "cell_type": "code",
   "execution_count": 1,
   "id": "cefe7bc1",
   "metadata": {},
   "outputs": [
    {
     "name": "stdout",
     "output_type": "stream",
     "text": [
      "appyhay\n",
      "enterway\n"
     ]
    }
   ],
   "source": [
    "def pig(st):\n",
    "    if len(st)>0:\n",
    "        st = st.lower()\n",
    "        vowels = [\"a\",\"e\",\"i\",\"o\",\"u\"]\n",
    "        if st[0] in vowels:\n",
    "            st += \"way\"\n",
    "        else:\n",
    "            st = st[1:]+st[0]+\"ay\"\n",
    "    else:\n",
    "        return \"Enter a valid String\"\n",
    "    return st\n",
    "\n",
    "print(pig(\"happy\"))\n",
    "print(pig(\"Enter\"))"
   ]
  },
  {
   "cell_type": "markdown",
   "id": "d14ee8f7",
   "metadata": {},
   "source": [
    "# Question 7"
   ]
  },
  {
   "cell_type": "code",
   "execution_count": 2,
   "id": "525ea333",
   "metadata": {},
   "outputs": [
    {
     "name": "stdout",
     "output_type": "stream",
     "text": [
      "There are 13 patients of blood type 'AB'\n",
      "There are 1 patients of blood type 'B'\n",
      "There are 15 patients of blood type 'O'\n",
      "There are 15 patients of blood type 'A'\n"
     ]
    }
   ],
   "source": [
    "# Function to read data from file\n",
    "def bldcount(name):\n",
    "    file = open(name,'r')\n",
    "    st = file.read()\n",
    "    lst = st.split(\" \")\n",
    "    lst.remove('')\n",
    "    dic={}\n",
    "    for i in lst:\n",
    "        if i in dic.keys():\n",
    "            dic[i]+=1\n",
    "        else:\n",
    "            dic[i] = 1\n",
    "    for i in list(dic.keys()):\n",
    "        print(\"There are {} patients of blood type '{}'\".format(dic[i],i))\n",
    "        \n",
    "    file.close()\n",
    "\n",
    "#Calling the function \n",
    "bldcount('bloodtype1.txt')"
   ]
  },
  {
   "cell_type": "markdown",
   "id": "4f82ea3f",
   "metadata": {},
   "source": [
    "# Question 8"
   ]
  },
  {
   "cell_type": "code",
   "execution_count": 3,
   "id": "4f2e3bb8",
   "metadata": {},
   "outputs": [
    {
     "name": "stdout",
     "output_type": "stream",
     "text": [
      "$ 122.96544\n"
     ]
    }
   ],
   "source": [
    "def curconv(curr,amt):\n",
    "    dic={\n",
    "        'AUD':1.0345157,'CHF':1.0237414,'CNY':0.1550176,'DKK':0.1651442,'EUR':1.2296544,'GBP':1.5550989,'HKD':0.1270207,\n",
    "         'INR':0.0177643,'JPY':0.01241401,'MXN':0.0751848,'MYR':0.3145411,'NOK':0.1677063,'NZD':0.8003591,'PHP':0.0233234,\n",
    "         'SEK':0.148269,'SGD':0.788871,'THB':0.0313789\n",
    "        }\n",
    "    if curr in dic.keys():\n",
    "        return amt*dic[curr]\n",
    "    else:\n",
    "        return \"Enter a valid currency\"\n",
    "\n",
    "print(\"$ {}\".format(curconv('EUR',100)))"
   ]
  },
  {
   "cell_type": "markdown",
   "id": "2ad49a71",
   "metadata": {},
   "source": [
    "# Question 9"
   ]
  },
  {
   "cell_type": "markdown",
   "id": "bedec8db",
   "metadata": {},
   "source": [
    "i) Trying to add incompatible variables, as in\n",
    "adding 6 + ‘a’\n",
    "\n",
    "Answer : Type Error\n",
    "\n",
    "ii) Referring to the 12th item of a list that has only 10\n",
    "items\n",
    "\n",
    "Answer : Index Error\n",
    "\n",
    "iii) Using a value that is out of range for a function’s\n",
    "input, such as calling math.sqrt(-1.0)\n",
    "\n",
    "Answer : Value Error\n",
    "\n",
    "iv) Using an undeclared variable, such as print(x)\n",
    "when x has not been defined \n",
    "\n",
    "Answer : Name Error\n",
    "\n",
    "v) Trying to open a file that does not exist, such as\n",
    "mistyping the file name or looking in the wrong\n",
    "directory. \n",
    "\n",
    "Answer : FileNotFound Error"
   ]
  },
  {
   "cell_type": "markdown",
   "id": "4c4a4415",
   "metadata": {},
   "source": [
    "# Question 10"
   ]
  },
  {
   "cell_type": "code",
   "execution_count": 4,
   "id": "7593ed3f",
   "metadata": {},
   "outputs": [
    {
     "data": {
      "text/plain": [
       "[1, 1, 1, 3, 5, 1, 1, 2, 1, 0, 1, 0, 1, 2, 4, 0, 1, 2, 0, 2, 1, 0, 1, 1, 0, 0]"
      ]
     },
     "execution_count": 4,
     "metadata": {},
     "output_type": "execute_result"
    }
   ],
   "source": [
    "def frequencies(st):\n",
    "    letters=\"abcdefghijklmnopqrstuvwxyz\"\n",
    "    dic={}\n",
    "    for i in letters:\n",
    "        dic[i] = 0\n",
    "    \n",
    "    if len(st)>0:\n",
    "        for j in st:\n",
    "            if j in dic.keys():\n",
    "                dic[j]+=1\n",
    "    else:\n",
    "        return 'Enter a valid String'\n",
    "    \n",
    "    return(list(dic.values()))\n",
    "\n",
    "frequencies('The quick red fox got bored and went home.')"
   ]
  },
  {
   "cell_type": "code",
   "execution_count": null,
   "id": "d9e88963",
   "metadata": {},
   "outputs": [],
   "source": []
  }
 ],
 "metadata": {
  "kernelspec": {
   "display_name": "Python 3 (ipykernel)",
   "language": "python",
   "name": "python3"
  },
  "language_info": {
   "codemirror_mode": {
    "name": "ipython",
    "version": 3
   },
   "file_extension": ".py",
   "mimetype": "text/x-python",
   "name": "python",
   "nbconvert_exporter": "python",
   "pygments_lexer": "ipython3",
   "version": "3.9.7"
  }
 },
 "nbformat": 4,
 "nbformat_minor": 5
}
